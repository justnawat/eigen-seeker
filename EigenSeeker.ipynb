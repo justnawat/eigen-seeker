{
 "cells": [
  {
   "cell_type": "code",
   "execution_count": 99,
   "metadata": {},
   "outputs": [],
   "source": [
    "import numpy as np\n",
    "import numpy.random as rd\n",
    "import matplotlib.pyplot as plt\n",
    "from typing import Tuple"
   ]
  },
  {
   "cell_type": "markdown",
   "metadata": {},
   "source": [
    "# Project Idea: Find the (Non-Complex) Eigenvalue of a Matrix\n",
    "\n",
    "It's from scratch-ish with some use of `numpy` because I don't want to write a hundred for-loops.\n",
    "\n",
    "## References\n",
    "\n",
    "* Lots of videos by **Mu Prime Math** ([used playlist](https://www.youtube.com/playlist?list=PLug5ZIRrShJHNCfEiX6l5CKbljWayGEcs))"
   ]
  },
  {
   "cell_type": "markdown",
   "metadata": {},
   "source": [
    "## Power Method\n",
    "\n",
    "Finds the eigenvalue with the highest magnitude.\n",
    "\n",
    "#### Why does it work?\n",
    "\n",
    "Let's say we have matrix $A$ with eigenvectors $\\vec{v_1}, \\vec{v_2}, \\ldots, \\vec{v_n}$ with \n",
    "corresponding eigenvalues $\\lambda_1, \\lambda_2, \\ldots, \\lambda_n$.\n",
    "\n",
    "Let $\\vec{x}$ be written as a linear combination of the eigenvectors of $A$.\n",
    "\n",
    "$$ \\vec{x} = c_1\\vec{v_1} + c_2\\vec{v_2} + \\ldots + c_n\\vec{v_n} $$\n",
    "\n",
    "We can then multiply $A$ to both sides, giving\n",
    "\n",
    "$$ A\\vec{x} = Ac_1\\vec{v_1} + Ac_2\\vec{v_2} + \\ldots + Ac_n\\vec{v_n} $$\n",
    "\n",
    "If we keep multiplying $A$ to both sides (let's say $k$ times), we will end up with\n",
    "\n",
    "$$ A^k\\vec{x} = A^kc_1\\vec{v_1} + A^kc_2\\vec{v_2} + \\ldots + A^kc_n\\vec{v_n} $$\n",
    "\n",
    "Because $\\vec{v_1}, \\vec{v_2}, \\ldots, \\vec{v_n}$ are eigenvectors of $A$, we know that $A\\vec{v_i} = \\lambda_i\\vec{v_i} $.\n",
    "We also know that if $\\lambda$ is an eigenvalue of $A$, $\\lambda^k$ would be the eigenvalue of $A^k$.\n",
    "Thus, we get\n",
    "\n",
    "$$ A^k\\vec{x} = c_1\\lambda_1^k\\vec{v_1} + c_2\\lambda_2^k\\vec{v_2} + \\ldots + c_n\\lambda_n^k\\vec{v_n} $$\n",
    "\n",
    "Let $\\lambda_1$ be the eigenvalue of $A$ with the highest magnitude. We can factor it out to get\n",
    "\n",
    "$$ A^k\\vec{x} = \\lambda_1^k\\left(c_1\\vec{v_1} + \\frac{c_2\\lambda_2^k\\vec{v_2}}{\\lambda_1^k} + \\ldots + \\frac{c_n\\lambda_n^k\\vec{v_n}}{\\lambda_1^k}\\right) $$\n",
    "\n",
    "Because $\\lambda_1 > \\lambda_2, \\ldots, \\lambda_n$,\n",
    "\n",
    "$$\\lim_{k\\to\\infty} \\frac{\\lambda_i^k}{\\lambda_1^k} = 0~\\forall i\\neq1 $$\n",
    "\n",
    "Therefore, we will end up with\n",
    "\n",
    "$$ A^k\\vec{x} =  c_1 \\lambda_1^k \\vec{v_1} $$\n",
    "\n",
    "This means that we can just choose an arbitrary $\\vec{x}$ to find the eigenvalue with the\n",
    "highest magnitude and its corresponding eigenvector as long as we multiply $A$ enough times.\n",
    "\n",
    "We will end up with a scaled version of an eigenvector, denoted as $c\\vec{v}$ for some constant $c$.\n",
    "\n",
    "Finally, we can find the eigenvalue. We can do so by multiplying $c\\vec{v}$ by $A$ and find out how\n",
    "much $c\\vec{v}$ is scaled by the multiplication because $A\\vec{v} = \\lambda{v}$ and that would be \n",
    "our corresponding eigenvalue."
   ]
  },
  {
   "cell_type": "code",
   "execution_count": 100,
   "metadata": {},
   "outputs": [],
   "source": [
    "def power_eig(A:np.ndarray, k:int=100) -> Tuple[float, np.ndarray]:\n",
    "\tsize, _ = A.shape\n",
    "\tvec = np.ones(size)\n",
    "\n",
    "\tA = A.astype(float)\n",
    "\tvec = vec.astype(float)\n",
    "\n",
    "\tfor i in range(k):\n",
    "\t\tvec = np.matmul(A, vec)\n",
    "\t\t\n",
    "\t\t# scaling down so it doesn't shoot up to infinity\n",
    "\t\tcoeff = max(vec)\n",
    "\t\tvec = vec / coeff\n",
    "\n",
    "\t# not the most elegant method but I'll take it\n",
    "\tlast = np.matmul(A, vec)\n",
    "\treturn np.average(last/vec), vec"
   ]
  },
  {
   "cell_type": "code",
   "execution_count": 101,
   "metadata": {},
   "outputs": [
    {
     "name": "stdout",
     "output_type": "stream",
     "text": [
      "-3.0 [-1.4 -0.6  1. ]\n"
     ]
    }
   ],
   "source": [
    "test_matrix = np.array([[5., 8., 16.],\n",
    "\t\t\t\t\t\t[4., 1., 8.],\n",
    "\t\t\t\t\t\t[-4., -4., -11.]])\n",
    "max_eival, max_eivec = power_eig(test_matrix)\n",
    "print(max_eival, max_eivec)"
   ]
  },
  {
   "cell_type": "code",
   "execution_count": 102,
   "metadata": {},
   "outputs": [
    {
     "name": "stdout",
     "output_type": "stream",
     "text": [
      "eigenvalue [-1.4 -0.6  1. ]\n",
      "A*eivec [ 4.2  1.8 -3. ]\n",
      "eival*eivec [ 4.2  1.8 -3. ]\n"
     ]
    }
   ],
   "source": [
    "print(\"eigenvalue\", max_eivec)\n",
    "print(\"A*eivec\", np.matmul(test_matrix, max_eivec))\n",
    "print(\"eival*eivec\", max_eival * max_eivec)"
   ]
  },
  {
   "cell_type": "markdown",
   "metadata": {},
   "source": [
    "## Shifted Inverse Power Method\n",
    "\n",
    "Finding eigenvalues that isn't the biggest one"
   ]
  },
  {
   "cell_type": "code",
   "execution_count": 103,
   "metadata": {},
   "outputs": [],
   "source": [
    "def shifted_ip_eig(A:np.ndarray, alpha:float, k:int=100):\n",
    "\tsize, _ = A.shape\n",
    "\tvec = np.ones(size)\n",
    "\n",
    "\tA = A.astype(float)\n",
    "\tvec = vec.astype(float)\n",
    "\tinverse = np.linalg.inv(A - alpha*np.identity(size))\n",
    "\n",
    "\tfor i in range(k):\n",
    "\t\tvec = np.matmul(inverse, vec)\n",
    "\t\tcoeff = max(vec)\n",
    "\t\tvec = vec / coeff\n",
    "\n",
    "\tlast = np.matmul(A, vec)\n",
    "\treturn np.average(last/vec), vec"
   ]
  },
  {
   "cell_type": "code",
   "execution_count": 104,
   "metadata": {},
   "outputs": [
    {
     "name": "stdout",
     "output_type": "stream",
     "text": [
      "1.000000000000001 [ 1.   0.5 -0.5]\n"
     ]
    }
   ],
   "source": [
    "eival, eivec = shifted_ip_eig(test_matrix, 1.5)\n",
    "print(eival, eivec)"
   ]
  },
  {
   "cell_type": "code",
   "execution_count": 105,
   "metadata": {},
   "outputs": [
    {
     "data": {
      "text/plain": [
       "(array([ 1. ,  0.5, -0.5]), array([ 1. ,  0.5, -0.5]))"
      ]
     },
     "execution_count": 105,
     "metadata": {},
     "output_type": "execute_result"
    }
   ],
   "source": [
    "eivec, np.matmul(test_matrix, eivec) # A*v = 1*v"
   ]
  }
 ],
 "metadata": {
  "interpreter": {
   "hash": "40d3a090f54c6569ab1632332b64b2c03c39dcf918b08424e98f38b5ae0af88f"
  },
  "kernelspec": {
   "display_name": "Python 3.8.5 ('base')",
   "language": "python",
   "name": "python3"
  },
  "language_info": {
   "codemirror_mode": {
    "name": "ipython",
    "version": 3
   },
   "file_extension": ".py",
   "mimetype": "text/x-python",
   "name": "python",
   "nbconvert_exporter": "python",
   "pygments_lexer": "ipython3",
   "version": "3.9.7"
  },
  "orig_nbformat": 4
 },
 "nbformat": 4,
 "nbformat_minor": 2
}
