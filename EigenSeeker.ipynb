{
 "cells": [
  {
   "cell_type": "code",
   "execution_count": 84,
   "metadata": {},
   "outputs": [],
   "source": [
    "import numpy as np\n",
    "import numpy.random as rd\n",
    "import matplotlib.pyplot as plt\n",
    "from typing import Tuple"
   ]
  },
  {
   "cell_type": "markdown",
   "metadata": {},
   "source": [
    "# Project Idea: Find the (Non-Complex) Eigenvalue of a Matrix\n",
    "\n",
    "It's from scratch-ish with some use of `numpy` because I don't want to write a hundred for-loops.\n",
    "\n",
    "## References\n",
    "\n",
    "* Lots of videos by **Mu Prime Math** ([used playlist](https://www.youtube.com/playlist?list=PLug5ZIRrShJHNCfEiX6l5CKbljWayGEcs))\n",
    "* [Also this video](https://www.youtube.com/watch?v=LHlg_lfihiA)"
   ]
  },
  {
   "cell_type": "markdown",
   "metadata": {},
   "source": [
    "## Power Method\n",
    "\n",
    "An iterative algorithm that finds the eigenvalue with the highest magnitude.\n",
    "\n",
    "$$ b_{k+1} = \\frac{Ab_k}{||Ab_k||} $$\n",
    "\n",
    "such that\n",
    "\n",
    "* $A$ is an $n\\times n$ matrix\n",
    "* $b_k$ is an $n$-element vector\n",
    "* $||Ab_k||$ is the element with the highest magnitude of $Ab_k$\n",
    "* $b_0$ is non-zero\n",
    "* Stop when $b_k = b_{k+1}$ (once the scaled $b_{k+1}$ is the same as $b_k$)\n",
    "\n",
    "#### Why does it work?\n",
    "\n",
    "Let's say we have matrix $A$ with eigenvectors $\\vec{v_1}, \\vec{v_2}, \\ldots, \\vec{v_n}$ with \n",
    "corresponding eigenvalues $\\lambda_1, \\lambda_2, \\ldots, \\lambda_n$.\n",
    "\n",
    "Let $\\vec{x}$ be written as a linear combination of the eigenvectors of $A$.\n",
    "\n",
    "$$ \\vec{x} = c_1\\vec{v_1} + c_2\\vec{v_2} + \\ldots + c_n\\vec{v_n} $$\n",
    "\n",
    "We can then multiply $A$ to both sides, giving\n",
    "\n",
    "$$ A\\vec{x} = Ac_1\\vec{v_1} + Ac_2\\vec{v_2} + \\ldots + Ac_n\\vec{v_n} $$\n",
    "\n",
    "If we keep multiplying $A$ to both sides (let's say $k$ times), we will end up with\n",
    "\n",
    "$$ A^k\\vec{x} = A^kc_1\\vec{v_1} + A^kc_2\\vec{v_2} + \\ldots + A^kc_n\\vec{v_n} $$\n",
    "\n",
    "Because $\\vec{v_1}, \\vec{v_2}, \\ldots, \\vec{v_n}$ are eigenvectors of $A$, we know that $A\\vec{v_i} = \\lambda_i\\vec{v_i} $.\n",
    "We also know that if $\\lambda$ is an eigenvalue of $A$, $\\lambda^k$ would be the eigenvalue of $A^k$.\n",
    "Thus, we get\n",
    "\n",
    "$$ A^k\\vec{x} = c_1\\lambda_1^k\\vec{v_1} + c_2\\lambda_2^k\\vec{v_2} + \\ldots + c_n\\lambda_n^k\\vec{v_n} $$\n",
    "\n",
    "Let $\\lambda_1$ be the eigenvalue of $A$ with the highest magnitude. We can factor it out to get\n",
    "\n",
    "$$ A^k\\vec{x} = \\lambda_1^k\\left(c_1\\vec{v_1} + \\frac{c_2\\lambda_2^k\\vec{v_2}}{\\lambda_1^k} + \\ldots + \\frac{c_n\\lambda_n^k\\vec{v_n}}{\\lambda_1^k}\\right) $$\n",
    "\n",
    "Because $\\lambda_1 > \\lambda_2, \\ldots, \\lambda_n$,\n",
    "\n",
    "$$\\lim_{k\\to\\infty} \\frac{\\lambda_i^k}{\\lambda_1^k} = 0~\\forall i\\neq1 $$\n",
    "\n",
    "Therefore, we will end up with this when $k$ is very big\n",
    "\n",
    "$$ A^k\\vec{x} =  c_1 \\lambda_1^k \\vec{v_1} $$\n",
    "\n",
    "This means that we can just choose an arbitrary $\\vec{x}$ to find the eigenvalue with the\n",
    "highest magnitude and its corresponding eigenvector as long as we multiply $A$ enough times.\n",
    "\n",
    "We will end up with a scaled version of an eigenvector, denoted as $c\\vec{v}$ for some constant $c$.\n",
    "\n",
    "Finally, we can find the eigenvalue. We can do so by multiplying $c\\vec{v}$ by $A$ and find out how\n",
    "much $c\\vec{v}$ is scaled by the multiplication because $A\\vec{v} = \\lambda{v}$ and that would be \n",
    "our corresponding eigenvalue."
   ]
  },
  {
   "cell_type": "code",
   "execution_count": 85,
   "metadata": {},
   "outputs": [],
   "source": [
    "def power_eig(A:np.ndarray) -> Tuple[float, np.ndarray]:\n",
    "\tsize, _ = A.shape\n",
    "\tA = A.astype(float)\n",
    "\tvec = np.ones(size).astype(float)\n",
    "\tpvec = np.zeros(size).astype(float)\n",
    "\n",
    "\twhile (vec != pvec).all():\n",
    "\t\tpvec = vec\n",
    "\t\timax = np.argmax(np.abs(vec))\n",
    "\t\tvec = np.matmul(A, vec) / vec[imax]\n",
    "\n",
    "\ti = np.argmax(np.abs(vec))\n",
    "\treturn vec[i], vec/vec[i]"
   ]
  },
  {
   "cell_type": "code",
   "execution_count": 86,
   "metadata": {},
   "outputs": [
    {
     "name": "stdout",
     "output_type": "stream",
     "text": [
      "-3.0000000000000018 [ 1.          0.42857143 -0.71428571]\n"
     ]
    }
   ],
   "source": [
    "test_matrix = np.array([[5., 8., 16.],\n",
    "\t\t\t\t\t\t[4., 1., 8.],\n",
    "\t\t\t\t\t\t[-4., -4., -11.]])\n",
    "max_eival, max_eivec = power_eig(test_matrix)\n",
    "print(max_eival, max_eivec)"
   ]
  },
  {
   "cell_type": "code",
   "execution_count": 87,
   "metadata": {},
   "outputs": [
    {
     "name": "stdout",
     "output_type": "stream",
     "text": [
      "eigenvalue [ 1.          0.42857143 -0.71428571]\n",
      "A*eivec [-3.         -1.28571429  2.14285714]\n",
      "eival*eivec [-3.         -1.28571429  2.14285714]\n"
     ]
    }
   ],
   "source": [
    "print(\"eigenvalue\", max_eivec)\n",
    "print(\"A*eivec\", np.matmul(test_matrix, max_eivec))\n",
    "print(\"eival*eivec\", max_eival * max_eivec)"
   ]
  },
  {
   "cell_type": "markdown",
   "metadata": {},
   "source": [
    "## Shifted Inverse Power Method\n",
    "\n",
    "Finding eigenvalues that isn't the biggest one.\n",
    "\n",
    "The problem with the power method is that it only works for finding the eigenvalue and eigenvector\n",
    "for the eigenvalue that has the highest magnitude due to it *dominating* the other terms as shown\n",
    "above.\n",
    "\n",
    "Thus, we have to modify the power method so that it works with finding the other eigenvalues of the matrix."
   ]
  },
  {
   "cell_type": "code",
   "execution_count": 88,
   "metadata": {},
   "outputs": [],
   "source": [
    "def shifted_ip_eig(A:np.ndarray, alpha:float, k:int=100):\n",
    "\tsize, _ = A.shape\n",
    "\tvec = np.ones(size)\n",
    "\n",
    "\tA = A.astype(float)\n",
    "\tvec = vec.astype(float)\n",
    "\tinv = np.linalg.inv(A - alpha*np.identity(size))\n",
    "\n",
    "\tfor i in range(k):\n",
    "\t\tvec = np.matmul(inv, vec)\n",
    "\t\tcoeff = max(vec)\n",
    "\t\tvec = vec / coeff\n",
    "\n",
    "\tlast = np.matmul(A, vec)\n",
    "\treturn np.average(last/vec), vec"
   ]
  },
  {
   "cell_type": "code",
   "execution_count": 89,
   "metadata": {},
   "outputs": [
    {
     "name": "stdout",
     "output_type": "stream",
     "text": [
      "0.9999999999999979 [ 1.   0.5 -0.5]\n"
     ]
    }
   ],
   "source": [
    "eival, eivec = shifted_ip_eig(test_matrix, 1.5)\n",
    "print(eival, eivec)"
   ]
  },
  {
   "cell_type": "code",
   "execution_count": 90,
   "metadata": {},
   "outputs": [
    {
     "data": {
      "text/plain": [
       "(array([ 1. ,  0.5, -0.5]), array([ 1. ,  0.5, -0.5]))"
      ]
     },
     "execution_count": 90,
     "metadata": {},
     "output_type": "execute_result"
    }
   ],
   "source": [
    "eivec, np.matmul(test_matrix, eivec) # A*v = 1*v"
   ]
  }
 ],
 "metadata": {
  "interpreter": {
   "hash": "40d3a090f54c6569ab1632332b64b2c03c39dcf918b08424e98f38b5ae0af88f"
  },
  "kernelspec": {
   "display_name": "Python 3.8.5 ('base')",
   "language": "python",
   "name": "python3"
  },
  "language_info": {
   "codemirror_mode": {
    "name": "ipython",
    "version": 3
   },
   "file_extension": ".py",
   "mimetype": "text/x-python",
   "name": "python",
   "nbconvert_exporter": "python",
   "pygments_lexer": "ipython3",
   "version": "3.9.7"
  },
  "orig_nbformat": 4
 },
 "nbformat": 4,
 "nbformat_minor": 2
}
