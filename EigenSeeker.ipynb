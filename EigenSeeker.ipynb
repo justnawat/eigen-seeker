{
 "cells": [
  {
   "cell_type": "code",
   "execution_count": 641,
   "metadata": {},
   "outputs": [],
   "source": [
    "import numpy as np\n",
    "import matplotlib.pyplot as plt\n",
    "from typing import Callable, Optional, List, Set"
   ]
  },
  {
   "cell_type": "markdown",
   "metadata": {},
   "source": [
    "# Project Idea: Find the Eigenvalue of a Matrix\n",
    "\n",
    "It's from scratch-ish with some use of `numpy` because I don't want to write a hundred for-loops."
   ]
  },
  {
   "cell_type": "markdown",
   "metadata": {},
   "source": [
    "## Part 1: Finding the determinant of a matrix\n",
    "\n",
    "The determinant is very useful for so many things related to matrix algebra. One of its applications is in finding the eigenvalues of a matrix.\n",
    "\n",
    "If I'm not lazy, I'll come back to write the explanation of how to find the determinant of a matrix. In the meanwhile, have [this](https://www.mathsisfun.com/algebra/matrix-determinant.html)."
   ]
  },
  {
   "cell_type": "code",
   "execution_count": 642,
   "metadata": {},
   "outputs": [],
   "source": [
    "\"\"\"\n",
    "Find the determinant of a given matrix (recursively)\n",
    "\n",
    "Param: A, input matrix\n",
    "Returns: determinant of A\n",
    "\"\"\"\n",
    "def det(A:np.ndarray) -> float:\n",
    "\tsize, size2 = A.shape\n",
    "\tif size != size2:\n",
    "\t\traise ValueError(\"Matrix A must be square\")\n",
    "\n",
    "\tif size == 2:\n",
    "\t\treturn A[0, 0]*A[1, 1] - A[1, 0]*A[0, 1]\n",
    "\n",
    "\telse:\n",
    "\t\taccumulator = 0\n",
    "\t\tsign = -1\n",
    "\t\tfor i in range(size):\n",
    "\t\t\tsub_matrix = np.array([ [ A[row, col] for col in range(size) if col != i ] for row in range(1, size) ])\n",
    "\t\t\taccumulator += (sign**i) * A[0, i]*det(sub_matrix)\n",
    "\t\treturn accumulator"
   ]
  },
  {
   "cell_type": "code",
   "execution_count": 643,
   "metadata": {},
   "outputs": [],
   "source": [
    "# np.random.seed(123)\n",
    "# test_matrix = np.random.randint(1, 10, size=(2, 2))\n",
    "# print(\"np det:\", np.linalg.det(test_matrix))\n",
    "# print(\"my det:\", det(test_matrix))\n",
    "\n",
    "# test_matrix = np.random.randint(1, 20, size=(3, 3))\n",
    "# print(test_matrix)\n",
    "# print(\"np det:\", np.linalg.det(test_matrix))\n",
    "# print(\"my det:\", det(test_matrix))"
   ]
  },
  {
   "cell_type": "markdown",
   "metadata": {},
   "source": [
    "## Part 2: Fancy root finding\n",
    "\n",
    "In Linear Algebra B, we learned that we can find the eigenvalues of a matrix by finding the roots or values of $\\lambda$ such that $\\det(A - \\lambda I) = 0$. \n",
    "\n",
    "To find the roots, we will use Newton's method because it's faster so it should give us slightly better performance since we might need to find multiple roots."
   ]
  },
  {
   "cell_type": "code",
   "execution_count": 644,
   "metadata": {},
   "outputs": [],
   "source": [
    "\"\"\"\n",
    "Find the derivative of a given point of function f using the centering method\n",
    "\n",
    "Params:\n",
    "* f: function to be used\n",
    "* x: given point to find the derivative\n",
    "\n",
    "Returns: slope at given point\n",
    "\"\"\"\n",
    "def derivative(f:Callable[[float], float], x:float):\n",
    "\th = 0.001\n",
    "\treturn (f(x+h) - f(x-h)) / 2/h"
   ]
  },
  {
   "cell_type": "code",
   "execution_count": 645,
   "metadata": {},
   "outputs": [],
   "source": [
    "\"\"\"\n",
    "Fancier version of Newton's method\n",
    "\n",
    "Params:\n",
    "* f: the function such that we want to find the point that f(x) = 0\n",
    "* l: initial left bound\n",
    "* r: initial right bound\n",
    "\n",
    "Returns: a root in given bound rounded to 6 digits or None if there's no root or takes too long\n",
    "\"\"\"\n",
    "def newton(f:Callable[[float], float], x0) -> Optional[float]:\n",
    "\tBAD_TIME = 50\n",
    "\tx = x0\n",
    "\tc = 0\n",
    "\twhile f(x) != 0 and c < BAD_TIME:\n",
    "\t\t# print(f(x))\n",
    "\t\tx = x - (f(x) / derivative(f, x))\n",
    "\t\tc += 1\n",
    "\t\n",
    "\tif f(x) == 0:\n",
    "\t\treturn round(x, 6)\n",
    "\telif abs(f(x)) < 1e-10:\n",
    "\t\treturn round(x, 6)\n",
    "\telse:\n",
    "\t\treturn None"
   ]
  },
  {
   "cell_type": "code",
   "execution_count": 646,
   "metadata": {},
   "outputs": [
    {
     "data": {
      "text/plain": [
       "0.739085"
      ]
     },
     "execution_count": 646,
     "metadata": {},
     "output_type": "execute_result"
    }
   ],
   "source": [
    "newton(lambda x : np.cos(x) - x, 0)"
   ]
  },
  {
   "cell_type": "code",
   "execution_count": 647,
   "metadata": {},
   "outputs": [],
   "source": [
    "\"\"\"\n",
    "For finding multiple roots within the given bound, using the shotgunning along with Newton's method\n",
    "\n",
    "Params:\n",
    "* f: the function we want to find roots for f(x) = 0\n",
    "* l: left bound\n",
    "* r: right bound\n",
    "* n: how many initial points do we want\n",
    "\n",
    "Returns: list of roots rounded to 3 digits if any\n",
    "\"\"\"\n",
    "def find_roots(f:Callable[[float], float], l:float, r:float) -> List[float]:\n",
    "\td = 1\n",
    "\tn = (r-l)/d\n",
    "\troots = set()\n",
    "\tfor i in range(int(n)):\n",
    "\t\ttry:\n",
    "\t\t\tres = newton(f, l + d*i)\n",
    "\t\texcept ZeroDivisionError:\n",
    "\t\t\tres = None\n",
    "\t\tif res != None:\n",
    "\t\t\troots.add(res)\n",
    "\treturn roots"
   ]
  },
  {
   "cell_type": "code",
   "execution_count": 648,
   "metadata": {},
   "outputs": [
    {
     "data": {
      "text/plain": [
       "{-2.791288, 1.791288}"
      ]
     },
     "execution_count": 648,
     "metadata": {},
     "output_type": "execute_result"
    }
   ],
   "source": [
    "find_roots(lambda x: x**2+x-5, -100, 100)"
   ]
  },
  {
   "cell_type": "markdown",
   "metadata": {},
   "source": [
    "## Part 3: Finding the eigenvalues\n",
    "\n",
    "This is the first difficult part.\n",
    "\n",
    "While it is quite easy to find the values of $\\lambda$ such that it satisfies the condition $\\det(A - \\lambda I) = 0$, it still requires manual input of the initial bound, which is not good because we want to automate this.\n",
    "\n",
    "Thus, we need to come up with a way to decide on the initial bound automatically"
   ]
  },
  {
   "cell_type": "code",
   "execution_count": 649,
   "metadata": {},
   "outputs": [],
   "source": [
    "\"\"\"\n",
    "Creating the function to calculate the det(A-lmbda*I) = 0\n",
    "\n",
    "Param: matrix A\n",
    "Returns: function that calculates det(A-lambda*I) for given lambda\n",
    "\"\"\"\n",
    "def zero_det(A:np.ndarray) -> Callable[[float], float]:\n",
    "\tdef func(lmbda:float) -> float:\n",
    "\t\tsize, _ = A.shape\n",
    "\t\treturn det(A - lmbda*np.identity(size))\n",
    "\treturn func"
   ]
  },
  {
   "cell_type": "markdown",
   "metadata": {},
   "source": []
  },
  {
   "cell_type": "code",
   "execution_count": 650,
   "metadata": {},
   "outputs": [
    {
     "name": "stdout",
     "output_type": "stream",
     "text": [
      "[[  5.   8.  16.]\n",
      " [  4.   1.   8.]\n",
      " [ -4.  -4. -11.]]\n",
      "9.0\n"
     ]
    },
    {
     "data": {
      "text/plain": [
       "{-3.0, 1.0}"
      ]
     },
     "execution_count": 650,
     "metadata": {},
     "output_type": "execute_result"
    }
   ],
   "source": [
    "test_matrix = np.array([[5., 8., 16.],\n",
    "\t\t\t\t\t\t[4., 1., 8.],\n",
    "\t\t\t\t\t\t[-4., -4., -11.]])\n",
    "print(test_matrix)\n",
    "print(d := det(test_matrix))\n",
    "find_roots(zero_det(test_matrix), -abs(d)*3, abs(d)*3)"
   ]
  },
  {
   "cell_type": "code",
   "execution_count": 651,
   "metadata": {},
   "outputs": [
    {
     "name": "stdout",
     "output_type": "stream",
     "text": [
      "[[3 2 6]\n",
      " [7 1 4]\n",
      " [9 0 0]]\n",
      "18\n"
     ]
    },
    {
     "data": {
      "text/plain": [
       "{-6.127891, -0.282168, 10.410059}"
      ]
     },
     "execution_count": 651,
     "metadata": {},
     "output_type": "execute_result"
    }
   ],
   "source": [
    "np.random.seed(92)\n",
    "test_matrix = np.random.randint(0, 10, size=(3, 3))\n",
    "print(test_matrix)\n",
    "print(d := det(test_matrix))\n",
    "find_roots(zero_det(test_matrix), -abs(d)*3, abs(d)*3)"
   ]
  }
 ],
 "metadata": {
  "interpreter": {
   "hash": "40d3a090f54c6569ab1632332b64b2c03c39dcf918b08424e98f38b5ae0af88f"
  },
  "kernelspec": {
   "display_name": "Python 3.8.5 ('base')",
   "language": "python",
   "name": "python3"
  },
  "language_info": {
   "codemirror_mode": {
    "name": "ipython",
    "version": 3
   },
   "file_extension": ".py",
   "mimetype": "text/x-python",
   "name": "python",
   "nbconvert_exporter": "python",
   "pygments_lexer": "ipython3",
   "version": "3.8.5"
  },
  "orig_nbformat": 4
 },
 "nbformat": 4,
 "nbformat_minor": 2
}
