{
 "cells": [
  {
   "cell_type": "code",
   "execution_count": 10,
   "id": "62890547",
   "metadata": {},
   "outputs": [],
   "source": [
    "import numpy as np\n",
    "import matplotlib.pyplot as plt"
   ]
  },
  {
   "cell_type": "code",
   "execution_count": 11,
   "id": "d247ac42",
   "metadata": {},
   "outputs": [
    {
     "data": {
      "text/plain": [
       "0.0"
      ]
     },
     "execution_count": 11,
     "metadata": {},
     "output_type": "execute_result"
    }
   ],
   "source": [
    "test_matrix = np.array([[5., 8., 16.], \n",
    "\t\t\t\t\t\t[4., 1., 8.],\n",
    "\t\t\t\t\t\t[-4., -4., -11.]])\n",
    "id_matrix = np.identity(3)\n",
    "\n",
    "np.linalg.det(test_matrix - id_matrix)"
   ]
  },
  {
   "cell_type": "code",
   "execution_count": 12,
   "id": "f4a918a7",
   "metadata": {},
   "outputs": [],
   "source": [
    "ls = np.linspace(-5, 5, 20)\n",
    "ys = [np.linalg.det(test_matrix - l*id_matrix) for l in ls]"
   ]
  },
  {
   "cell_type": "code",
   "execution_count": 13,
   "id": "1895c1ed",
   "metadata": {},
   "outputs": [
    {
     "data": {
      "text/plain": [
       "<matplotlib.lines.Line2D at 0x7feb1e9b29a0>"
      ]
     },
     "execution_count": 13,
     "metadata": {},
     "output_type": "execute_result"
    },
    {
     "data": {
      "image/png": "[encoded data removed]",
      "text/plain": [
       "<Figure size 432x288 with 1 Axes>"
      ]
     },
     "metadata": {
      "needs_background": "light"
     },
     "output_type": "display_data"
    }
   ],
   "source": [
    "plt.plot(ls, ys)\n",
    "plt.axhline(0)"
   ]
  }
 ],
 "metadata": {
  "kernelspec": {
   "display_name": "Python 3",
   "language": "python",
   "name": "python3"
  },
  "language_info": {
   "codemirror_mode": {
    "name": "ipython",
    "version": 3
   },
   "file_extension": ".py",
   "mimetype": "text/x-python",
   "name": "python",
   "nbconvert_exporter": "python",
   "pygments_lexer": "ipython3",
   "version": "3.8.5"
  }
 },
 "nbformat": 4,
 "nbformat_minor": 5
}
