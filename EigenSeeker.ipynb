{
 "cells": [
  {
   "cell_type": "code",
   "execution_count": 661,
   "metadata": {},
   "outputs": [],
   "source": [
    "import numpy as np\n",
    "import numpy.random as rd\n",
    "import matplotlib.pyplot as plt\n",
    "from typing import Tuple"
   ]
  },
  {
   "cell_type": "markdown",
   "metadata": {},
   "source": [
    "# Project Idea: Find the (Non-Complex) Eigenvalue of a Matrix\n",
    "\n",
    "It's from scratch-ish with some use of `numpy` because I don't want to write a hundred for-loops."
   ]
  },
  {
   "cell_type": "markdown",
   "metadata": {},
   "source": [
    "## Power Method\n",
    "\n",
    "Source: [this link](https://www.youtube.com/watch?v=TS32rBteHh4)\n",
    "\n",
    "Finds the eigenvalue with the highest magnitude."
   ]
  },
  {
   "cell_type": "code",
   "execution_count": 662,
   "metadata": {},
   "outputs": [],
   "source": [
    "def power_eig(A:np.ndarray, k:int=100) -> Tuple[float, np.ndarray]:\n",
    "\tsize, _ = A.shape\n",
    "\tvec = np.ones(size)\n",
    "\n",
    "\tA = A.astype(float)\n",
    "\tvec = vec.astype(float)\n",
    "\n",
    "\tfor i in range(k):\n",
    "\t\tvec = np.matmul(A, vec)\n",
    "\t\tcoeff = max(vec)\n",
    "\t\tvec = vec / coeff\n",
    "\n",
    "\tlast = np.matmul(A, vec)\n",
    "\treturn np.average(last/vec), vec"
   ]
  },
  {
   "cell_type": "code",
   "execution_count": 663,
   "metadata": {},
   "outputs": [
    {
     "name": "stdout",
     "output_type": "stream",
     "text": [
      "-3.0 [-1.4 -0.6  1. ]\n"
     ]
    }
   ],
   "source": [
    "test_matrix = np.array([[5., 8., 16.],\n",
    "\t\t\t\t\t\t[4., 1., 8.],\n",
    "\t\t\t\t\t\t[-4., -4., -11.]])\n",
    "max_eival, max_eivec = power_eig(test_matrix)\n",
    "print(max_eival, max_eivec)"
   ]
  },
  {
   "cell_type": "code",
   "execution_count": 664,
   "metadata": {},
   "outputs": [
    {
     "data": {
      "text/plain": [
       "(array([-1.4, -0.6,  1. ]), array([ 4.2,  1.8, -3. ]))"
      ]
     },
     "execution_count": 664,
     "metadata": {},
     "output_type": "execute_result"
    }
   ],
   "source": [
    "max_eivec, np.matmul(test_matrix, max_eivec) # A*v = -3*v"
   ]
  },
  {
   "cell_type": "markdown",
   "metadata": {},
   "source": [
    "## Shifted Inverse Power Method\n",
    "\n",
    "Finding eigenvalues that isn't the biggest one"
   ]
  },
  {
   "cell_type": "code",
   "execution_count": null,
   "metadata": {},
   "outputs": [],
   "source": [
    "def shifted_ip_eig(A:np.ndarray, k:int=100):\n",
    "\t..."
   ]
  }
 ],
 "metadata": {
  "interpreter": {
   "hash": "40d3a090f54c6569ab1632332b64b2c03c39dcf918b08424e98f38b5ae0af88f"
  },
  "kernelspec": {
   "display_name": "Python 3.8.5 ('base')",
   "language": "python",
   "name": "python3"
  },
  "language_info": {
   "codemirror_mode": {
    "name": "ipython",
    "version": 3
   },
   "file_extension": ".py",
   "mimetype": "text/x-python",
   "name": "python",
   "nbconvert_exporter": "python",
   "pygments_lexer": "ipython3",
   "version": "3.9.7"
  },
  "orig_nbformat": 4
 },
 "nbformat": 4,
 "nbformat_minor": 2
}
