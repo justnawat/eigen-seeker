{
 "cells": [
  {
   "cell_type": "code",
   "execution_count": 45,
   "metadata": {},
   "outputs": [],
   "source": [
    "import numpy as np\n",
    "from typing import Callable, Optional, List"
   ]
  },
  {
   "cell_type": "markdown",
   "metadata": {},
   "source": [
    "# Project Idea: Find the Eigenvalue of a Matrix\n",
    "\n",
    "It's from scratch-ish with some use of `numpy` because I don't want to write a hundred for-loops.\n",
    "\n",
    "## TODOs:\n",
    "* Something to do $\\det(A - \\lambda I) = 0$ for eigenvalue\n",
    "* Something to do $(A - \\lambda I)\\vec{v} = O$ where $O$ is a zero matrix for eigenvector"
   ]
  },
  {
   "cell_type": "markdown",
   "metadata": {},
   "source": [
    "## Part 1: Fancy Bisection and Roots Finder\n",
    "\n",
    "This bisection is to help out when we need to find the root(s) of stuff"
   ]
  },
  {
   "cell_type": "code",
   "execution_count": 46,
   "metadata": {},
   "outputs": [],
   "source": [
    "\"\"\"\n",
    "Fancier version of bisection\n",
    "\n",
    "Params:\n",
    "* f: the function such that we want to find the point that f(x) = 0\n",
    "* l: initial left bound\n",
    "* r: initial right bound\n",
    "\n",
    "Returns: \n",
    "* a root in given bound rounded to 6 digits\n",
    "* None if there's no root or takes >50 iterations\n",
    "\"\"\"\n",
    "def bisect(f:Callable[[float], float], l:float, r:float) -> Optional[float]:\n",
    "\tif f(l)*f(r) > 0: # bad initial bound\n",
    "\t\treturn None\n",
    "\n",
    "\tg = (l+r)/2\n",
    "\tc = 0\n",
    "\twhile abs(f(g)) > 1e-6 and c < 50:\n",
    "\t\tcomputed_g = f(g)\n",
    "\t\tif computed_g * f(l) < 0:\n",
    "\t\t\tr = g\n",
    "\t\telse:\n",
    "\t\t\tl = g\n",
    "\t\tg = (l+r)/2\n",
    "\t\tc += 1\n",
    "\t\n",
    "\tif abs(f(g)) > 1e-6: # took too long\n",
    "\t\treturn None\n",
    "\telse:\n",
    "\t\treturn round(g, 6)\n",
    "\n",
    "# bisect(lambda x : np.cos(x) - x, 0, 1)"
   ]
  },
  {
   "cell_type": "code",
   "execution_count": 47,
   "metadata": {},
   "outputs": [],
   "source": [
    "\"\"\"\n",
    "For finding multiple roots within the given bound\n",
    "\n",
    "Params:\n",
    "* f: the function we want to find roots for f(x) = 0\n",
    "* l: left bound\n",
    "* r: right bound\n",
    "* n: how many intervals do we want\n",
    "\n",
    "Returns: \n",
    "* list of roots rounded to 6 digits if any\n",
    "\"\"\"\n",
    "def find_roots(f:Callable[[float], float], l:float, r:float, n:int) -> List[float]:\n",
    "\td = (r-l)/n\n",
    "\troots = []\n",
    "\tfor i in range(n):\n",
    "\t\tcl = l + d*i\n",
    "\t\tcr = l + d*(i+1)\n",
    "\t\tres = bisect(f, cl, cr)\n",
    "\t\tif res != None:\n",
    "\t\t\troots.append(res)\n",
    "\treturn roots\n",
    "\n",
    "# find_roots(lambda x: x**2+x-5, -5, 5, 20)"
   ]
  },
  {
   "cell_type": "markdown",
   "metadata": {},
   "source": [
    "## Part 2: Finding the Determinant of a Matrix\n",
    "\n",
    "Determinant is very useful when we have to find the eigenvalues, *and I guess I need to write it from scratch too.*"
   ]
  },
  {
   "cell_type": "code",
   "execution_count": 48,
   "metadata": {},
   "outputs": [
    {
     "name": "stdout",
     "output_type": "stream",
     "text": [
      "np det: -15.0\n",
      "my det: -15\n",
      "[[11  2  1]\n",
      " [18 16 10]\n",
      " [ 1 15  1]]\n",
      "np det: -1235.9999999999995\n",
      "my det: -1236\n"
     ]
    }
   ],
   "source": [
    "def det(A:np.ndarray) -> float:\n",
    "\tsize, _ = A.shape\n",
    "\tif size == 2:\n",
    "\t\treturn A[0, 0]*A[1, 1] - A[1, 0]*A[0, 1]\n",
    "\n",
    "\telse:\n",
    "\t\taccumulator = 0\n",
    "\t\tsign = -1\n",
    "\t\tfor i in range(size):\n",
    "\t\t\tsub_matrix = np.array([ [ A[row, col] for col in range(size) if col != i ] for row in range(1, size) ])\n",
    "\t\t\taccumulator += (sign**i) * A[0, i]*det(sub_matrix)\n",
    "\t\treturn accumulator\n",
    "\n",
    "np.random.seed(123)\n",
    "test_matrix = np.random.randint(1, 10, size=(2, 2))\n",
    "print(\"np det:\", np.linalg.det(test_matrix))\n",
    "print(\"my det:\", det(test_matrix))\n",
    "\n",
    "test_matrix = np.random.randint(1, 20, size=(3, 3))\n",
    "print(test_matrix)\n",
    "print(\"np det:\", np.linalg.det(test_matrix))\n",
    "print(\"my det:\", det(test_matrix))"
   ]
  },
  {
   "cell_type": "code",
   "execution_count": 49,
   "metadata": {},
   "outputs": [],
   "source": [
    "def find_eigenvalues(A:np.ndarray, lmbda:float):\n",
    "\t...\n"
   ]
  }
 ],
 "metadata": {
  "interpreter": {
   "hash": "40d3a090f54c6569ab1632332b64b2c03c39dcf918b08424e98f38b5ae0af88f"
  },
  "kernelspec": {
   "display_name": "Python 3.8.5 ('base')",
   "language": "python",
   "name": "python3"
  },
  "language_info": {
   "codemirror_mode": {
    "name": "ipython",
    "version": 3
   },
   "file_extension": ".py",
   "mimetype": "text/x-python",
   "name": "python",
   "nbconvert_exporter": "python",
   "pygments_lexer": "ipython3",
   "version": "3.8.5"
  },
  "orig_nbformat": 4
 },
 "nbformat": 4,
 "nbformat_minor": 2
}
